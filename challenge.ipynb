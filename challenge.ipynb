{
 "cells": [
  {
   "cell_type": "markdown",
   "id": "cdb0b565-329c-4ed5-b91b-8867db86813d",
   "metadata": {},
   "source": [
    "Welcome to the Artifact coding challenge ! We hope you'll have fun and wish you best of luck 😀"
   ]
  },
  {
   "cell_type": "markdown",
   "id": "856b79bb-96b8-47d8-b1f3-412f26ba2b85",
   "metadata": {},
   "source": [
    "Albert and the ear shells\n",
    "========================="
   ]
  },
  {
   "cell_type": "markdown",
   "id": "b227a79c-a665-4f95-a8d0-b4edd8cd5135",
   "metadata": {},
   "source": [
    "![natural-iridescent-abalone-shell.png](natural-iridescent-abalone-shell.png)"
   ]
  },
  {
   "cell_type": "markdown",
   "id": "4bf229ed-5084-4ceb-833d-c4604e6bcd7e",
   "metadata": {},
   "source": [
    "Ear shells, also known as abalone, are marine snails."
   ]
  },
  {
   "cell_type": "markdown",
   "id": "c54ea6f5-b1e5-4866-b0fb-9b534dc8485c",
   "metadata": {},
   "source": [
    "The age of ear shells can be determined by cutting the shell through the cone, staining it, and counting the number of rings through a microscope - a boring and time-consuming task. \n",
    "\n",
    "**Albert**, a scientist and **ear shells** specialist, needs your help. He has collected data on his favorite sea creature and asks you to help him understand it. Then, he would like you to develop a model to predict the age of ear shells using other measurements which are easier to obtain. "
   ]
  },
  {
   "cell_type": "markdown",
   "id": "b660af3e-195c-4682-8210-65ede14a6f7c",
   "metadata": {},
   "source": [
    "# Part 0: Setup"
   ]
  },
  {
   "cell_type": "markdown",
   "id": "b81bdb13-0c07-4778-8677-af9ebe58d09a",
   "metadata": {},
   "source": [
    "Please include any setup code (including imports) in this section"
   ]
  },
  {
   "cell_type": "code",
   "execution_count": 1,
   "id": "aecbb4da-97d0-4763-815f-1f71a6623ce8",
   "metadata": {},
   "outputs": [],
   "source": [
    "import pandas as pd\n",
    "import matplotlib.pyplot as plt\n",
    "import numpy as np"
   ]
  },
  {
   "cell_type": "markdown",
   "id": "37cc284d-5250-48b1-8f72-f266bfcd94ca",
   "metadata": {},
   "source": [
    "# Part 1: Data understanding"
   ]
  },
  {
   "cell_type": "markdown",
   "id": "225f9fcc-8653-49ce-a5ce-4c21e6f41e21",
   "metadata": {
    "tags": []
   },
   "source": [
    "## Loading, processing and exploring data"
   ]
  },
  {
   "cell_type": "markdown",
   "id": "1ed54525-19b6-4ed9-9344-f99c5bab77c1",
   "metadata": {},
   "source": [
    "Albert has provided you the dataset `earshells.csv`. Please load it and do what every diligent Data Scientist should do when received a new dataset !"
   ]
  },
  {
   "cell_type": "code",
   "execution_count": 2,
   "id": "18468ad5-7f65-4172-aa8c-23e49d5ec3a1",
   "metadata": {
    "scrolled": false
   },
   "outputs": [
    {
     "name": "stdout",
     "output_type": "stream",
     "text": [
      "  subset sex    length  diameter    height  weight_whole  weight_shucked  \\\n",
      "0  train   I  0.349544  0.260194  0.074504      0.179963        0.089707   \n",
      "1  train   F  0.545249  0.439866  0.134915      0.918132        0.428983   \n",
      "2   test   F  0.649654  0.544545  0.175080      1.524459        0.590134   \n",
      "3  train   I  0.500003  0.394566  0.140912      0.621133        0.292336   \n",
      "4  train   I  0.439268  0.335001  0.110040      0.389429        0.175157   \n",
      "5  train   I  0.294596  0.220013  0.084899      0.129350        0.058167   \n",
      "6  train   I  0.475259  0.364612  0.120313      0.518502        0.268031   \n",
      "7  train   M  0.549885  0.451143  0.149154      1.014219        0.407824   \n",
      "8  train   I  0.464834  0.355262  0.119326      0.580638        0.254973   \n",
      "9   test   I  0.379859  0.290154  0.100127      0.236797        0.107936   \n",
      "\n",
      "   weight_viscera  weight_shell  rings      price  \n",
      "0        0.024760      0.054516    5.0   1.205721  \n",
      "1        0.201751      0.237840   10.0  18.403463  \n",
      "2        0.325970      0.495506   10.0  31.455767  \n",
      "3        0.120165      0.195429    9.0   5.647747  \n",
      "4        0.083279      0.110899    7.0   1.966989  \n",
      "5        0.027437      0.036809    5.0   0.229251  \n",
      "6        0.109303      0.136601    8.0   4.142997  \n",
      "7        0.201920      0.287036   10.0  16.212238  \n",
      "8        0.091545      0.183995    8.0   7.455883  \n",
      "9        0.039838      0.082200    6.0   2.284661  \n",
      "       subset   sex       length     diameter       height  weight_whole  \\\n",
      "count    3174  3174  3174.000000  3174.000000  3174.000000   3174.000000   \n",
      "unique      2     3          NaN          NaN          NaN           NaN   \n",
      "top     train     I          NaN          NaN          NaN           NaN   \n",
      "freq     2857  1195          NaN          NaN          NaN           NaN   \n",
      "mean      NaN   NaN     0.514369     0.400696     0.137644      0.762393   \n",
      "std       NaN   NaN     0.134614     0.127081     0.085251      0.467023   \n",
      "min       NaN   NaN     0.000000     0.000000     0.000000      0.000000   \n",
      "25%       NaN   NaN     0.430444     0.330102     0.105422      0.380190   \n",
      "50%       NaN   NaN     0.525349     0.409146     0.135162      0.709052   \n",
      "75%       NaN   NaN     0.604510     0.474409     0.159900      1.084979   \n",
      "max       NaN   NaN     1.973813     3.491197     2.662290      2.987259   \n",
      "\n",
      "        weight_shucked  weight_viscera  weight_shell        rings        price  \n",
      "count      3174.000000     3174.000000   3174.000000  3143.000000  3143.000000  \n",
      "unique             NaN             NaN           NaN          NaN          NaN  \n",
      "top                NaN             NaN           NaN          NaN          NaN  \n",
      "freq               NaN             NaN           NaN          NaN          NaN  \n",
      "mean          0.342232        0.171397      0.214670     8.688514    12.009276  \n",
      "std           0.221347        0.136742      0.134140     1.652502     8.961170  \n",
      "min           0.000000        0.000000      0.000000     5.000000     0.100000  \n",
      "25%           0.164375        0.081057      0.111309     8.000000     4.404896  \n",
      "50%           0.311254        0.153026      0.200179     9.000000    10.000912  \n",
      "75%           0.489777        0.238163      0.296504    10.000000    18.243623  \n",
      "max           1.905003        3.196680      1.545075    11.000000    52.901790  \n",
      "<class 'pandas.core.frame.DataFrame'>\n",
      "RangeIndex: 3174 entries, 0 to 3173\n",
      "Data columns (total 11 columns):\n",
      " #   Column          Non-Null Count  Dtype  \n",
      "---  ------          --------------  -----  \n",
      " 0   subset          3174 non-null   object \n",
      " 1   sex             3174 non-null   object \n",
      " 2   length          3174 non-null   float64\n",
      " 3   diameter        3174 non-null   float64\n",
      " 4   height          3174 non-null   float64\n",
      " 5   weight_whole    3174 non-null   float64\n",
      " 6   weight_shucked  3174 non-null   float64\n",
      " 7   weight_viscera  3174 non-null   float64\n",
      " 8   weight_shell    3174 non-null   float64\n",
      " 9   rings           3143 non-null   float64\n",
      " 10  price           3143 non-null   float64\n",
      "dtypes: float64(9), object(2)\n",
      "memory usage: 272.9+ KB\n",
      "None\n"
     ]
    }
   ],
   "source": [
    "df = pd.read_csv('earshells.csv') #Reading the dataframe\n",
    "print(df.head(10)) #Show first 10 results to visuilize data\n",
    "print(df.describe(include='all')) #Statistic\n",
    "print(df.info()) #general info"
   ]
  },
  {
   "cell_type": "markdown",
   "id": "82705c27",
   "metadata": {},
   "source": [
    "From that we see: \n",
    "1) First 2 columns are not numeric values (Have to encode them);<br>\n",
    "2) Total number of rows 3174. In last 2 columns we have a missing data (Have to deal with it);<br>\n",
    "3) We have already data are split into training and test sets? (Values of 1st column. Have to form tests by this rule);<br> \n",
    "4) Other statistical info.<br>"
   ]
  },
  {
   "cell_type": "markdown",
   "id": "622122f2",
   "metadata": {},
   "source": [
    "### Dealing with missing data"
   ]
  },
  {
   "cell_type": "markdown",
   "id": "5fefbbf1",
   "metadata": {},
   "source": [
    "<i>Here I will replace missing data in all columns with numeric values (from 2 to last) with a mean value calculated for each column. Using <b>SimpleImputer</b> from <b>sklearn</b> library.</i>"
   ]
  },
  {
   "cell_type": "code",
   "execution_count": 3,
   "id": "5c60473b",
   "metadata": {},
   "outputs": [
    {
     "name": "stdout",
     "output_type": "stream",
     "text": [
      "<class 'pandas.core.frame.DataFrame'>\n",
      "RangeIndex: 3174 entries, 0 to 3173\n",
      "Data columns (total 11 columns):\n",
      " #   Column          Non-Null Count  Dtype  \n",
      "---  ------          --------------  -----  \n",
      " 0   subset          3174 non-null   object \n",
      " 1   sex             3174 non-null   object \n",
      " 2   length          3174 non-null   float64\n",
      " 3   diameter        3174 non-null   float64\n",
      " 4   height          3174 non-null   float64\n",
      " 5   weight_whole    3174 non-null   float64\n",
      " 6   weight_shucked  3174 non-null   float64\n",
      " 7   weight_viscera  3174 non-null   float64\n",
      " 8   weight_shell    3174 non-null   float64\n",
      " 9   rings           3174 non-null   float64\n",
      " 10  price           3174 non-null   float64\n",
      "dtypes: float64(9), object(2)\n",
      "memory usage: 272.9+ KB\n"
     ]
    }
   ],
   "source": [
    "from sklearn.impute import SimpleImputer\n",
    "imputer = SimpleImputer(missing_values=np.nan, strategy='mean')\n",
    "imputer.fit(df.iloc[:, 2:len(df.columns)])\n",
    "df.iloc[:, 2:len(df.columns)] = imputer.transform(df.iloc[:, 2:len(df.columns)])\n",
    "df.info()"
   ]
  },
  {
   "cell_type": "markdown",
   "id": "68e0c666",
   "metadata": {},
   "source": [
    "### Dividing to subsets"
   ]
  },
  {
   "cell_type": "markdown",
   "id": "89fc5537",
   "metadata": {},
   "source": [
    "<i>In this chapter I divide dataframe onto training and test subsets of independent (X) variables and dependent (y). In feature frame (X) after dividing I got rid out of \"subset\" column.</i>"
   ]
  },
  {
   "cell_type": "code",
   "execution_count": 4,
   "id": "31352312",
   "metadata": {},
   "outputs": [
    {
     "name": "stdout",
     "output_type": "stream",
     "text": [
      "3174\n",
      "[['I' 0.3495442836075593 0.2601940906334086 ... 0.0247599507832135\n",
      "  0.0545161929959864 5.0]\n",
      " ['F' 0.5452490400598211 0.4398656370726855 ... 0.2017510973532418\n",
      "  0.2378398030284065 10.0]\n",
      " ['I' 0.5000031723831203 0.3945664355082028 ... 0.1201647205750157\n",
      "  0.1954293870087821 9.0]\n",
      " ...\n",
      " ['I' 0.3450474020089475 0.2553387214243274 ... 0.0363349303647198\n",
      "  0.0553393824263176 6.0]\n",
      " ['M' 0.749726251499644 0.5547359557667633 ... 0.5223463012914071\n",
      "  0.5278917571509596 11.0]\n",
      " ['F' 0.7201674037615454 0.5506174994453702 ... 0.3250788916683267\n",
      "  0.4348239342922483 10.0]]\n"
     ]
    }
   ],
   "source": [
    "grouped = df.groupby(df.subset)\n",
    "df_train = grouped.get_group('train')\n",
    "df_test = grouped.get_group('test')\n",
    "X_train = df_train.iloc[:,1:-1].values\n",
    "X_test = df_test.iloc[:,1:-1].values\n",
    "y_train = df_train.iloc[:, -1].values\n",
    "y_test = df_test.iloc[:, -1].values\n",
    "total = len(X_train)+len(X_test)\n",
    "print(total)\n",
    "print(X_train)"
   ]
  },
  {
   "cell_type": "markdown",
   "id": "56f86ada",
   "metadata": {},
   "source": [
    "### Encoding the categorical data"
   ]
  },
  {
   "cell_type": "markdown",
   "id": "558230a3",
   "metadata": {},
   "source": [
    "<i>Here I am encoding the sex column by <b>OneHotEncoder</b> from the <b>sci-kit learn</b> library. As we can see there are 3 different values of \"sex\" parameter encoded into 3 columns.</i> "
   ]
  },
  {
   "cell_type": "code",
   "execution_count": 5,
   "id": "c52355fe",
   "metadata": {},
   "outputs": [
    {
     "name": "stdout",
     "output_type": "stream",
     "text": [
      "[[0.0 1.0 0.0 ... 0.0247599507832135 0.0545161929959864 5.0]\n",
      " [1.0 0.0 0.0 ... 0.2017510973532418 0.2378398030284065 10.0]\n",
      " [0.0 1.0 0.0 ... 0.1201647205750157 0.1954293870087821 9.0]\n",
      " ...\n",
      " [0.0 1.0 0.0 ... 0.0363349303647198 0.0553393824263176 6.0]\n",
      " [0.0 0.0 1.0 ... 0.5223463012914071 0.5278917571509596 11.0]\n",
      " [1.0 0.0 0.0 ... 0.3250788916683267 0.4348239342922483 10.0]]\n",
      "[[1.0 0.0 0.0 ... 0.3259701403307138 0.4955058887031087 10.0]\n",
      " [0.0 1.0 0.0 ... 0.0398381866156518 0.0821997873194008 6.0]\n",
      " [0.0 1.0 0.0 ... 0.1412284656040897 0.1199518030325547 9.0]\n",
      " ...\n",
      " [0.0 1.0 0.0 ... 0.0176725751633301 0.0252668992742599 7.0]\n",
      " [1.0 0.0 0.0 ... 0.308514168254535 0.4046327094806584 11.0]\n",
      " [0.0 0.0 1.0 ... 0.1971943616800289 0.2749568773220962 10.0]]\n"
     ]
    }
   ],
   "source": [
    "from sklearn.compose import ColumnTransformer\n",
    "from sklearn.preprocessing import OneHotEncoder\n",
    "ct = ColumnTransformer(transformers=[('encoder', OneHotEncoder(), [0])], remainder='passthrough')\n",
    "X_train = np.array(ct.fit_transform(X_train))\n",
    "print(X_train)\n",
    "X_test = np.array(ct.fit_transform(X_test))\n",
    "print(X_test)"
   ]
  },
  {
   "cell_type": "markdown",
   "id": "fbf89d40",
   "metadata": {},
   "source": [
    "### Feature scaling"
   ]
  },
  {
   "cell_type": "markdown",
   "id": "79895f40",
   "metadata": {},
   "source": [
    "<i>Here I am scaling features in columns from \"length\" to \"rings\". Actually, from the data analysis in 3.1, it is seems for me that I can scale only \"rings\" column, others are ok.</i>"
   ]
  },
  {
   "cell_type": "code",
   "execution_count": 6,
   "id": "66c344bd",
   "metadata": {},
   "outputs": [
    {
     "name": "stdout",
     "output_type": "stream",
     "text": [
      "[[0.0 1.0 0.0 ... -1.0595108777028999 -1.1881799433271185\n",
      "  -2.242383689900623]\n",
      " [1.0 0.0 0.0 ... 0.21505263117063042 0.1635773530936 0.7982002323911073]\n",
      " [0.0 1.0 0.0 ... -0.3724740371285111 -0.14914062845076875\n",
      "  0.19008344793276122]\n",
      " ...\n",
      " [0.0 1.0 0.0 ... -0.9761561626425794 -1.182110063301355\n",
      "  -1.634266905442277]\n",
      " [0.0 0.0 1.0 ... 2.5237497382193097 2.302308121361314 1.4063170168494534]\n",
      " [1.0 0.0 0.0 ... 1.1031711009929288 1.6160620421519545\n",
      "  0.7982002323911073]]\n",
      "[[1.0 0.0 0.0 ... 1.1095892357099753 2.0635072709549647\n",
      "  0.7982002323911073]\n",
      " [0.0 1.0 0.0 ... -0.9509282195154674 -0.9840518410537195\n",
      "  -1.634266905442277]\n",
      " [0.0 1.0 0.0 ... -0.22078802743507364 -0.7056830991016017\n",
      "  0.19008344793276122]\n",
      " ...\n",
      " [0.0 1.0 0.0 ... -1.1105490822337079 -1.403852906545028\n",
      "  -1.026150120983931]\n",
      " [1.0 0.0 0.0 ... 0.9838838235954211 1.3934436439013005\n",
      "  1.4063170168494534]\n",
      " [0.0 0.0 1.0 ... 0.18223828355374855 0.4372642829408359\n",
      "  0.7982002323911073]]\n"
     ]
    }
   ],
   "source": [
    "from sklearn.preprocessing import StandardScaler\n",
    "scX = StandardScaler()\n",
    "X_train[:, 3:] = scX.fit_transform(X_train[:, 3:])\n",
    "X_test[:, 3:] = scX.transform(X_test[:, 3:])\n",
    "print(X_train)\n",
    "print(X_test)"
   ]
  },
  {
   "cell_type": "markdown",
   "id": "dbb318c6-7834-4d12-88ff-1d430926199f",
   "metadata": {},
   "source": [
    "## Questions"
   ]
  },
  {
   "cell_type": "markdown",
   "id": "f6e75634-9619-488a-a7a0-cb8c9dc5d9f6",
   "metadata": {},
   "source": [
    "Albert needs your help getting a deeper understanding of one particular aspect of this data: the price of ear shells. Can you help him ?"
   ]
  },
  {
   "cell_type": "markdown",
   "id": "b316264b-f536-49f3-9ef1-1d491307c35b",
   "metadata": {},
   "source": [
    "### Question 1.1"
   ]
  },
  {
   "cell_type": "markdown",
   "id": "5f1435c8-04c2-43a3-8d2d-59d7b6e600dc",
   "metadata": {},
   "source": [
    "What's the **average price** for ear shells with a **diameter** falling outside the interquartile range (of diameter) ?"
   ]
  },
  {
   "cell_type": "markdown",
   "id": "a84ff342",
   "metadata": {},
   "source": [
    "<i>Interquartile range is Q3-Q1, therefore we are looking for values of diameter less than Q1 and higher than Q3.</i> "
   ]
  },
  {
   "cell_type": "code",
   "execution_count": 7,
   "id": "492c6f21",
   "metadata": {},
   "outputs": [
    {
     "name": "stdout",
     "output_type": "stream",
     "text": [
      "The avarage price for ear shells outside the interquartile range of diameter is 13.09 \n"
     ]
    }
   ],
   "source": [
    "q1 = df['diameter'].quantile(q=0.25)\n",
    "q3 = df['diameter'].quantile(q=0.75)\n",
    "numb = 0\n",
    "t_sum = 0\n",
    "for i in range(0, len(df)):\n",
    "    if (df.iloc[i, 3] < q1 or df.iloc[i, 3] > q3):\n",
    "         t_sum += df.iloc[i, 10]\n",
    "         numb += 1\n",
    "print('The avarage price for ear shells outside the interquartile range of diameter is {:.2f} '.format(t_sum/numb))"
   ]
  },
  {
   "cell_type": "markdown",
   "id": "6805854b-eb80-4b62-a210-d622b00a6743",
   "metadata": {},
   "source": [
    "### Question 1.2"
   ]
  },
  {
   "cell_type": "markdown",
   "id": "4d492d02-2b40-4929-b1fe-5692865c3cd9",
   "metadata": {},
   "source": [
    "Albert would like to understand which factors / attributes have been used to determine the price. Please provide him with **one clear visualization** which explicits the dependency between the price and the most relevant attributes."
   ]
  },
  {
   "cell_type": "markdown",
   "id": "577155c1",
   "metadata": {},
   "source": [
    "<i>Wow, that was a bit hard part and I think, here I need to practice more. I got scores for each feature in <b>SelectKBest</b> method for <b>f_regression</b> function. From the bar plot I can tell that we should concentrate only on 2, maximum 3, values with a highest score.</i>"
   ]
  },
  {
   "cell_type": "code",
   "execution_count": 8,
   "id": "68e44bac-f2bb-4980-aafa-e4ad0c8e2356",
   "metadata": {},
   "outputs": [
    {
     "data": {
      "image/png": "[encoded data removed]",
      "text/plain": [
       "<Figure size 432x288 with 1 Axes>"
      ]
     },
     "metadata": {
      "needs_background": "light"
     },
     "output_type": "display_data"
    }
   ],
   "source": [
    "from sklearn.feature_selection import SelectKBest, chi2, f_regression\n",
    "select = SelectKBest(score_func=f_regression, k='all')\n",
    "z = select.fit(X_train, y_train)\n",
    "scores = pd.DataFrame(z.scores_)\n",
    "#print(scores)\n",
    "x1=df.columns.values.tolist()\n",
    "y1=scores.iloc[:,-1].tolist()\n",
    "#print(x1, y1)\n",
    "fig = plt.figure()\n",
    "ax = fig.add_axes([0,0,1,1])\n",
    "ax.bar(x1,y1)\n",
    "plt.setp(ax.get_xticklabels(), rotation=30, horizontalalignment='right')\n",
    "plt.show()"
   ]
  },
  {
   "cell_type": "markdown",
   "id": "2adc46ff-2485-457b-9fac-ae9bfe8f9eb2",
   "metadata": {},
   "source": [
    "# Part 2: Modeling"
   ]
  },
  {
   "cell_type": "markdown",
   "id": "aa4a1708-4d3b-47c8-8ac6-7070cd5fbdc6",
   "metadata": {},
   "source": [
    "Albert loves ML ! He asks you to use your ML skills to train a model that will predict the **number of rings** based on the other attributes.\n",
    "\n",
    "Albert was kind enough to pre-assign the dataset samples to train-test with the `subset` attribute. `test` samples should obviously not be used during the training procedure !"
   ]
  },
  {
   "cell_type": "markdown",
   "id": "a6dc63f9",
   "metadata": {
    "pycharm": {
     "name": "#%% md\n"
    }
   },
   "source": [
    "### Question 2.1"
   ]
  },
  {
   "cell_type": "markdown",
   "id": "62691747",
   "metadata": {
    "pycharm": {
     "name": "#%% md\n"
    }
   },
   "source": [
    "Which model will you choose to accomplish this task? Briefly explain why."
   ]
  },
  {
   "cell_type": "markdown",
   "id": "37630132",
   "metadata": {
    "jupyter": {
     "outputs_hidden": false
    },
    "pycharm": {
     "name": "#%%\n"
    }
   },
   "source": [
    "<i>While we are looking for prediction of continuous numeric value, we are aiming for some sort of regression. I guess it is better to try different and choose the best. But, before, I have to slightly modify training and test sets to make the <b>number of rings</b> a target</i>"
   ]
  },
  {
   "cell_type": "code",
   "execution_count": 9,
   "id": "d088e3e3",
   "metadata": {},
   "outputs": [
    {
     "name": "stdout",
     "output_type": "stream",
     "text": [
      "Multiple linear regression accuracy is 29.07 %\n",
      "Polynomial regression accuracy is 35.85 %\n",
      "Random forest regression accuracy is 17.36 %\n",
      "Decision tree regression accuracy is -13.42 %\n",
      "XGBoost accuracy is 31.67 %\n"
     ]
    },
    {
     "name": "stderr",
     "output_type": "stream",
     "text": [
      "C:\\Users\\Yehor\\anaconda3\\lib\\site-packages\\sklearn\\utils\\validation.py:993: DataConversionWarning: A column-vector y was passed when a 1d array was expected. Please change the shape of y to (n_samples, ), for example using ravel().\n",
      "  y = column_or_1d(y, warn=True)\n"
     ]
    },
    {
     "name": "stdout",
     "output_type": "stream",
     "text": [
      "SVR accuracy is 34.07 %\n"
     ]
    }
   ],
   "source": [
    "X_train = df_train.iloc[:,6:7].values\n",
    "X_test = df_test.iloc[:,6:7].values\n",
    "y_train = df_train.iloc[:, 9].values\n",
    "y_test = df_test.iloc[:, 9].values\n",
    "\n",
    "from sklearn.linear_model import LinearRegression\n",
    "regressor = LinearRegression()\n",
    "regressor.fit(X_train, y_train)\n",
    "\n",
    "# Predicting the Test set results\n",
    "y_pred = regressor.predict(X_test)\n",
    "\n",
    "# Evaluating the Model Performance\n",
    "from sklearn.metrics import r2_score\n",
    "print('Multiple linear regression accuracy is {:.2f} %'.format(r2_score(y_test, y_pred)*100))\n",
    "\n",
    "from sklearn.preprocessing import PolynomialFeatures\n",
    "from sklearn.linear_model import LinearRegression\n",
    "poly_reg = PolynomialFeatures(degree = 5)\n",
    "X_poly = poly_reg.fit_transform(X_train)\n",
    "regressor = LinearRegression()\n",
    "regressor.fit(X_poly, y_train)\n",
    "\n",
    "# Predicting the Test set results\n",
    "y_pred = regressor.predict(poly_reg.transform(X_test))\n",
    "\n",
    "# Evaluating the Model Performance\n",
    "from sklearn.metrics import r2_score\n",
    "print('Polynomial regression accuracy is {:.2f} %'.format(r2_score(y_test, y_pred)*100))\n",
    "\n",
    "from sklearn.ensemble import RandomForestRegressor\n",
    "regressor = RandomForestRegressor(n_estimators = 100, random_state = 0)\n",
    "regressor.fit(X_train, y_train)\n",
    "\n",
    "# Predicting the Test set results\n",
    "y_pred = regressor.predict(X_test)\n",
    "\n",
    "# Evaluating the Model Performance\n",
    "from sklearn.metrics import r2_score\n",
    "print('Random forest regression accuracy is {:.2f} %'.format(r2_score(y_test, y_pred)*100))\n",
    "\n",
    "from sklearn.tree import DecisionTreeRegressor\n",
    "regressor = DecisionTreeRegressor(random_state = 0)\n",
    "regressor.fit(X_train, y_train)\n",
    "\n",
    "# Predicting the Test set results\n",
    "y_pred = regressor.predict(X_test)\n",
    "\n",
    "# Evaluating the Model Performance\n",
    "from sklearn.metrics import r2_score\n",
    "print('Decision tree regression accuracy is {:.2f} %'.format(r2_score(y_test, y_pred)*100))\n",
    "\n",
    "from xgboost import XGBRegressor\n",
    "classifier = XGBRegressor()\n",
    "classifier.fit(X_train, y_train)\n",
    "\n",
    "from sklearn.metrics import r2_score\n",
    "y_pred = classifier.predict(X_test)\n",
    "\n",
    "from sklearn.metrics import r2_score\n",
    "print('XGBoost accuracy is {:.2f} %'.format(r2_score(y_test, y_pred)*100))\n",
    "\n",
    "from sklearn.preprocessing import StandardScaler\n",
    "sc_X = StandardScaler()\n",
    "sc_y = StandardScaler()\n",
    "X_train = sc_X.fit_transform(X_train)\n",
    "y_train = sc_y.fit_transform(y_train.reshape(-1,1))\n",
    "\n",
    "# Training the SVR model on the Training set\n",
    "from sklearn.svm import SVR\n",
    "regressor = SVR(kernel = 'rbf')\n",
    "regressor.fit(X_train, y_train)\n",
    "\n",
    "# Predicting the Test set results\n",
    "y_pred = sc_y.inverse_transform(regressor.predict(sc_X.transform(X_test)).reshape(-1,1))\n",
    "\n",
    "# Evaluating the Model Performance\n",
    "from sklearn.metrics import r2_score\n",
    "print('SVR accuracy is {:.2f} %'.format(r2_score(y_test, y_pred)*100))"
   ]
  },
  {
   "cell_type": "markdown",
   "id": "0466fb56",
   "metadata": {},
   "source": [
    "<i>In this case I would like to add back features and rechek</i>"
   ]
  },
  {
   "cell_type": "code",
   "execution_count": 10,
   "id": "4b0b7f82",
   "metadata": {},
   "outputs": [
    {
     "name": "stdout",
     "output_type": "stream",
     "text": [
      "Multiple linear regression accuracy is 46.74 %\n",
      "Polynomial regression accuracy is 46.69 %\n",
      "Random forest regression accuracy is 56.45 %\n",
      "Decision tree regression accuracy is 20.47 %\n",
      "XGBoost accuracy is 50.69 %\n"
     ]
    },
    {
     "name": "stderr",
     "output_type": "stream",
     "text": [
      "C:\\Users\\Yehor\\anaconda3\\lib\\site-packages\\sklearn\\utils\\validation.py:993: DataConversionWarning: A column-vector y was passed when a 1d array was expected. Please change the shape of y to (n_samples, ), for example using ravel().\n",
      "  y = column_or_1d(y, warn=True)\n"
     ]
    },
    {
     "name": "stdout",
     "output_type": "stream",
     "text": [
      "SVR accuracy is 56.91 %\n"
     ]
    }
   ],
   "source": [
    "X_train = df_train.iloc[:,1:9].values\n",
    "X_test = df_test.iloc[:,1:9].values\n",
    "y_train = df_train.iloc[:, 9].values\n",
    "y_test = df_test.iloc[:, 9].values\n",
    "\n",
    "from sklearn.compose import ColumnTransformer\n",
    "from sklearn.preprocessing import OneHotEncoder\n",
    "ct = ColumnTransformer(transformers=[('encoder', OneHotEncoder(), [0])], remainder='passthrough')\n",
    "X_train = np.array(ct.fit_transform(X_train))\n",
    "X_test = np.array(ct.fit_transform(X_test))\n",
    "\n",
    "from sklearn.linear_model import LinearRegression\n",
    "regressor = LinearRegression()\n",
    "regressor.fit(X_train, y_train)\n",
    "\n",
    "# Predicting the Test set results\n",
    "y_pred = regressor.predict(X_test)\n",
    "\n",
    "# Evaluating the Model Performance\n",
    "from sklearn.metrics import r2_score\n",
    "print('Multiple linear regression accuracy is {:.2f} %'.format(r2_score(y_test, y_pred)*100))\n",
    "\n",
    "from sklearn.preprocessing import PolynomialFeatures\n",
    "from sklearn.linear_model import LinearRegression\n",
    "poly_reg = PolynomialFeatures(degree = 1)\n",
    "X_poly = poly_reg.fit_transform(X_train)\n",
    "regressor = LinearRegression()\n",
    "regressor.fit(X_poly, y_train)\n",
    "\n",
    "# Predicting the Test set results\n",
    "y_pred = regressor.predict(poly_reg.transform(X_test))\n",
    "\n",
    "# Evaluating the Model Performance\n",
    "from sklearn.metrics import r2_score\n",
    "print('Polynomial regression accuracy is {:.2f} %'.format(r2_score(y_test, y_pred)*100))\n",
    "# CHANGING DEGREE IN POLYNOMIAL REGRESSION SHOWS THAT TREND IS LINEAR\n",
    "\n",
    "from sklearn.ensemble import RandomForestRegressor\n",
    "regressor = RandomForestRegressor(n_estimators = 100, random_state = 0)\n",
    "regressor.fit(X_train, y_train)\n",
    "\n",
    "# Predicting the Test set results\n",
    "y_pred = regressor.predict(X_test)\n",
    "\n",
    "# Evaluating the Model Performance\n",
    "from sklearn.metrics import r2_score\n",
    "print('Random forest regression accuracy is {:.2f} %'.format(r2_score(y_test, y_pred)*100))\n",
    "\n",
    "from sklearn.tree import DecisionTreeRegressor\n",
    "regressor = DecisionTreeRegressor(random_state = 0)\n",
    "regressor.fit(X_train, y_train)\n",
    "\n",
    "# Predicting the Test set results\n",
    "y_pred = regressor.predict(X_test)\n",
    "\n",
    "# Evaluating the Model Performance\n",
    "from sklearn.metrics import r2_score\n",
    "print('Decision tree regression accuracy is {:.2f} %'.format(r2_score(y_test, y_pred)*100))\n",
    "\n",
    "from xgboost import XGBRegressor\n",
    "classifier = XGBRegressor()\n",
    "classifier.fit(X_train, y_train)\n",
    "\n",
    "from sklearn.metrics import r2_score\n",
    "y_pred = classifier.predict(X_test)\n",
    "\n",
    "from sklearn.metrics import r2_score\n",
    "print('XGBoost accuracy is {:.2f} %'.format(r2_score(y_test, y_pred)*100))\n",
    "\n",
    "from sklearn.preprocessing import StandardScaler\n",
    "sc_X = StandardScaler()\n",
    "sc_y = StandardScaler()\n",
    "X_train = sc_X.fit_transform(X_train)\n",
    "y_train = sc_y.fit_transform(y_train.reshape(-1,1))\n",
    "\n",
    "# Training the SVR model on the Training set\n",
    "from sklearn.svm import SVR\n",
    "regressor = SVR(kernel = 'rbf')\n",
    "regressor.fit(X_train, y_train)\n",
    "\n",
    "# Predicting the Test set results\n",
    "y_pred = sc_y.inverse_transform(regressor.predict(sc_X.transform(X_test)).reshape(-1,1))\n",
    "\n",
    "# Evaluating the Model Performance\n",
    "from sklearn.metrics import r2_score\n",
    "print('SVR accuracy is {:.2f} %'.format(r2_score(y_test, y_pred)*100))"
   ]
  },
  {
   "cell_type": "code",
   "execution_count": 18,
   "id": "b93d5a0f",
   "metadata": {},
   "outputs": [
    {
     "name": "stdout",
     "output_type": "stream",
     "text": [
      "Multiple linear regression accuracy is 46.64 %\n"
     ]
    },
    {
     "name": "stderr",
     "output_type": "stream",
     "text": [
      "C:\\Users\\Yehor\\AppData\\Local\\Temp\\ipykernel_15584\\2091153119.py:36: DataConversionWarning: A column-vector y was passed when a 1d array was expected. Please change the shape of y to (n_samples,), for example using ravel().\n",
      "  regressor.fit(X_train, y_train)\n"
     ]
    },
    {
     "name": "stdout",
     "output_type": "stream",
     "text": [
      "Random forest regression accuracy is 56.79 %\n",
      "Decision tree regression accuracy is 21.01 %\n",
      "XGBoost accuracy is -2754.06 %\n"
     ]
    },
    {
     "name": "stderr",
     "output_type": "stream",
     "text": [
      "C:\\Users\\Yehor\\anaconda3\\lib\\site-packages\\sklearn\\utils\\validation.py:993: DataConversionWarning: A column-vector y was passed when a 1d array was expected. Please change the shape of y to (n_samples, ), for example using ravel().\n",
      "  y = column_or_1d(y, warn=True)\n"
     ]
    },
    {
     "name": "stdout",
     "output_type": "stream",
     "text": [
      "SVR accuracy is 56.91 %\n",
      "Polynomial regression accuracy is 46.76 %\n"
     ]
    }
   ],
   "source": [
    "X_train = df_train.iloc[:,1:9].values\n",
    "X_test = df_test.iloc[:,1:9].values\n",
    "y_train = df_train.iloc[:, 9].values\n",
    "y_test = df_test.iloc[:, 9].values\n",
    "\n",
    "\n",
    "from sklearn.compose import ColumnTransformer\n",
    "from sklearn.preprocessing import OneHotEncoder\n",
    "ct = ColumnTransformer(transformers=[('encoder', OneHotEncoder(), [0])], remainder='passthrough')\n",
    "X_train = np.array(ct.fit_transform(X_train))\n",
    "X_test = np.array(ct.fit_transform(X_test))\n",
    "\n",
    "from sklearn.preprocessing import StandardScaler\n",
    "sc_X = StandardScaler()\n",
    "sc_y = StandardScaler()\n",
    "X_train = sc_X.fit_transform(X_train)\n",
    "y_train = sc_y.fit_transform(y_train.reshape(-1,1))\n",
    "X_test = sc_X.transform(X_test)\n",
    "\n",
    "from sklearn.linear_model import LinearRegression\n",
    "regressor = LinearRegression()\n",
    "regressor.fit(X_train, y_train)\n",
    "\n",
    "# Predicting the Test set results\n",
    "y_pred = sc_y.inverse_transform(regressor.predict(X_test))\n",
    "\n",
    "# Evaluating the Model Performance\n",
    "from sklearn.metrics import r2_score\n",
    "print('Multiple linear regression accuracy is {:.2f} %'.format(r2_score(y_test, y_pred)*100))\n",
    "\n",
    "\n",
    "# CHANGING DEGREE IN POLYNOMIAL REGRESSION SHOWS THAT TREND IS LINEAR\n",
    "\n",
    "from sklearn.ensemble import RandomForestRegressor\n",
    "regressor = RandomForestRegressor(n_estimators = 100, random_state = 0)\n",
    "regressor.fit(X_train, y_train)\n",
    "\n",
    "# Predicting the Test set results\n",
    "y_pred = sc_y.inverse_transform([regressor.predict(X_test)]).ravel()\n",
    "\n",
    "# Evaluating the Model Performance\n",
    "from sklearn.metrics import r2_score\n",
    "print('Random forest regression accuracy is {:.2f} %'.format(r2_score(y_test, y_pred)*100))\n",
    "\n",
    "from sklearn.tree import DecisionTreeRegressor\n",
    "regressor = DecisionTreeRegressor(random_state = 0)\n",
    "regressor.fit(X_train, y_train)\n",
    "\n",
    "# Predicting the Test set results\n",
    "y_pred = sc_y.inverse_transform([regressor.predict(X_test)]).ravel()\n",
    "\n",
    "# Evaluating the Model Performance\n",
    "from sklearn.metrics import r2_score\n",
    "print('Decision tree regression accuracy is {:.2f} %'.format(r2_score(y_test, y_pred)*100))\n",
    "\n",
    "from xgboost import XGBRegressor\n",
    "classifier = XGBRegressor()\n",
    "classifier.fit(X_train, y_train)\n",
    "\n",
    "from sklearn.metrics import r2_score\n",
    "y_pred = classifier.predict(X_test)\n",
    "\n",
    "from sklearn.metrics import r2_score\n",
    "print('XGBoost accuracy is {:.2f} %'.format(r2_score(y_test, y_pred)*100))\n",
    "\n",
    "# Training the SVR model on the Training set\n",
    "from sklearn.svm import SVR\n",
    "regressor = SVR(kernel = 'rbf')\n",
    "regressor.fit(X_train, y_train)\n",
    "\n",
    "# Predicting the Test set results\n",
    "y_pred = sc_y.inverse_transform([regressor.predict(X_test)]).ravel()\n",
    "\n",
    "# Evaluating the Model Performance\n",
    "from sklearn.metrics import r2_score\n",
    "print('SVR accuracy is {:.2f} %'.format(r2_score(y_test, y_pred)*100))\n",
    "\n",
    "from sklearn.preprocessing import PolynomialFeatures\n",
    "from sklearn.linear_model import LinearRegression\n",
    "poly_reg = PolynomialFeatures(degree = 1)\n",
    "X_poly = poly_reg.fit_transform(X_train)\n",
    "regressor = LinearRegression()\n",
    "regressor.fit(X_poly, y_train)\n",
    "\n",
    "# Predicting the Test set results\n",
    "y_pred = sc_y.inverse_transform(regressor.predict(poly_reg.transform(X_test)))\n",
    "\n",
    "# Evaluating the Model Performance\n",
    "from sklearn.metrics import r2_score\n",
    "print('Polynomial regression accuracy is {:.2f} %'.format(r2_score(y_test, y_pred)*100))"
   ]
  },
  {
   "cell_type": "markdown",
   "id": "727a45b2",
   "metadata": {},
   "source": [
    "<i>With all features accuracy is higher, maybe, we should carefully specify valuable features. Next step is Grid search for better parameters of the regression models</i>"
   ]
  },
  {
   "cell_type": "markdown",
   "id": "568952ec-c322-4c01-bd83-b8e72aba9cfd",
   "metadata": {},
   "source": [
    "### Question 2.2"
   ]
  },
  {
   "cell_type": "markdown",
   "id": "e3fb0a55-4211-4537-8ffc-7526e814ad5c",
   "metadata": {},
   "source": [
    "Which metric would you choose to communicate the performance of your model to Albert ? Briefly explain why"
   ]
  },
  {
   "cell_type": "markdown",
   "id": "8e045537",
   "metadata": {},
   "source": [
    "<i><b>r square metrics</b> describes how model fits a dataset</i>"
   ]
  },
  {
   "cell_type": "markdown",
   "id": "a5c3f64a-ba5e-4e33-8b3a-354cef4bd8d5",
   "metadata": {},
   "source": [
    "### Question 2.3"
   ]
  },
  {
   "cell_type": "markdown",
   "id": "2f5f39cc-1a73-4d6b-b22f-1f5c399106ff",
   "metadata": {},
   "source": [
    "How's your model performing ? Please provide the value of your chosen metric on the **test set** and briefly discuss it"
   ]
  },
  {
   "cell_type": "markdown",
   "id": "4ebca7ab",
   "metadata": {},
   "source": [
    "<i>Not so good. The best <b>r square</b> parameters I have got for SVR and Random forest models, but they not higher 57%. I did't check for data that stand out the trend and did't do the parameters tune for each model </i>"
   ]
  },
  {
   "cell_type": "markdown",
   "id": "14fd21af-69b8-41b9-8a89-d9b0bb264520",
   "metadata": {},
   "source": [
    "# The end !"
   ]
  },
  {
   "cell_type": "markdown",
   "id": "c88fa073-627e-4bc7-9052-4afa4733d14f",
   "metadata": {},
   "source": [
    "Thank you for participating in this challenge, we hope you enjoyed it !\n",
    "\n",
    "Don't forget to submit your work by email, including a zip file with:\n",
    "- your notebook `challenge.ipynb`\n",
    "- an export of your notebook as HTML `challenge.html`\n",
    "- an image of your visualization for question 1.2\n",
    "- a `requirements.txt` file listing all the dependencies you have used"
   ]
  },
  {
   "cell_type": "code",
   "execution_count": null,
   "id": "f1e2a7c2-da41-45d9-b3b3-58223d6fc872",
   "metadata": {},
   "outputs": [],
   "source": []
  }
 ],
 "metadata": {
  "kernelspec": {
   "display_name": "Python 3 (ipykernel)",
   "language": "python",
   "name": "python3"
  },
  "language_info": {
   "codemirror_mode": {
    "name": "ipython",
    "version": 3
   },
   "file_extension": ".py",
   "mimetype": "text/x-python",
   "name": "python",
   "nbconvert_exporter": "python",
   "pygments_lexer": "ipython3",
   "version": "3.9.12"
  },
  "toc": {
   "base_numbering": 1,
   "nav_menu": {},
   "number_sections": true,
   "sideBar": true,
   "skip_h1_title": false,
   "title_cell": "Table of Contents",
   "title_sidebar": "Contents",
   "toc_cell": false,
   "toc_position": {},
   "toc_section_display": true,
   "toc_window_display": false
  }
 },
 "nbformat": 4,
 "nbformat_minor": 5
}
